{
 "cells": [
  {
   "cell_type": "code",
   "execution_count": 2,
   "metadata": {},
   "outputs": [],
   "source": [
    "import pandas as pd\n",
    "df = pd.read_csv(\"./datas/vertebral/ok2C.csv\")"
   ]
  },
  {
   "cell_type": "code",
   "execution_count": 3,
   "metadata": {},
   "outputs": [
    {
     "name": "stdout",
     "output_type": "stream",
     "text": [
      "(310, 8)\n"
     ]
    },
    {
     "data": {
      "text/html": [
       "<div>\n",
       "<style scoped>\n",
       "    .dataframe tbody tr th:only-of-type {\n",
       "        vertical-align: middle;\n",
       "    }\n",
       "\n",
       "    .dataframe tbody tr th {\n",
       "        vertical-align: top;\n",
       "    }\n",
       "\n",
       "    .dataframe thead th {\n",
       "        text-align: right;\n",
       "    }\n",
       "</style>\n",
       "<table border=\"1\" class=\"dataframe\">\n",
       "  <thead>\n",
       "    <tr style=\"text-align: right;\">\n",
       "      <th></th>\n",
       "      <th>Unnamed: 0</th>\n",
       "      <th>f1</th>\n",
       "      <th>f2</th>\n",
       "      <th>f3</th>\n",
       "      <th>f4</th>\n",
       "      <th>f5</th>\n",
       "      <th>f6</th>\n",
       "      <th>tar</th>\n",
       "    </tr>\n",
       "  </thead>\n",
       "  <tbody>\n",
       "    <tr>\n",
       "      <th>0</th>\n",
       "      <td>0</td>\n",
       "      <td>0.355710</td>\n",
       "      <td>0.519829</td>\n",
       "      <td>0.229193</td>\n",
       "      <td>0.250879</td>\n",
       "      <td>0.307452</td>\n",
       "      <td>0.025163</td>\n",
       "      <td>1</td>\n",
       "    </tr>\n",
       "    <tr>\n",
       "      <th>1</th>\n",
       "      <td>1</td>\n",
       "      <td>0.124518</td>\n",
       "      <td>0.296713</td>\n",
       "      <td>0.098622</td>\n",
       "      <td>0.144642</td>\n",
       "      <td>0.476718</td>\n",
       "      <td>0.036359</td>\n",
       "      <td>1</td>\n",
       "    </tr>\n",
       "    <tr>\n",
       "      <th>2</th>\n",
       "      <td>2</td>\n",
       "      <td>0.411651</td>\n",
       "      <td>0.513934</td>\n",
       "      <td>0.322982</td>\n",
       "      <td>0.307607</td>\n",
       "      <td>0.386171</td>\n",
       "      <td>0.017528</td>\n",
       "      <td>1</td>\n",
       "    </tr>\n",
       "    <tr>\n",
       "      <th>3</th>\n",
       "      <td>3</td>\n",
       "      <td>0.416184</td>\n",
       "      <td>0.557342</td>\n",
       "      <td>0.271255</td>\n",
       "      <td>0.289376</td>\n",
       "      <td>0.341865</td>\n",
       "      <td>0.051839</td>\n",
       "      <td>1</td>\n",
       "    </tr>\n",
       "    <tr>\n",
       "      <th>4</th>\n",
       "      <td>4</td>\n",
       "      <td>0.227238</td>\n",
       "      <td>0.289389</td>\n",
       "      <td>0.128155</td>\n",
       "      <td>0.246992</td>\n",
       "      <td>0.409614</td>\n",
       "      <td>0.044181</td>\n",
       "      <td>1</td>\n",
       "    </tr>\n",
       "    <tr>\n",
       "      <th>5</th>\n",
       "      <td>5</td>\n",
       "      <td>0.135995</td>\n",
       "      <td>0.365666</td>\n",
       "      <td>0.099517</td>\n",
       "      <td>0.119933</td>\n",
       "      <td>0.647919</td>\n",
       "      <td>0.030936</td>\n",
       "      <td>1</td>\n",
       "    </tr>\n",
       "    <tr>\n",
       "      <th>6</th>\n",
       "      <td>6</td>\n",
       "      <td>0.263117</td>\n",
       "      <td>0.400322</td>\n",
       "      <td>0.207356</td>\n",
       "      <td>0.223950</td>\n",
       "      <td>0.542962</td>\n",
       "      <td>0.039688</td>\n",
       "      <td>1</td>\n",
       "    </tr>\n",
       "    <tr>\n",
       "      <th>7</th>\n",
       "      <td>7</td>\n",
       "      <td>0.185378</td>\n",
       "      <td>0.309218</td>\n",
       "      <td>0.134598</td>\n",
       "      <td>0.196557</td>\n",
       "      <td>0.507474</td>\n",
       "      <td>0.000885</td>\n",
       "      <td>1</td>\n",
       "    </tr>\n",
       "    <tr>\n",
       "      <th>8</th>\n",
       "      <td>8</td>\n",
       "      <td>0.170139</td>\n",
       "      <td>0.358700</td>\n",
       "      <td>0.256757</td>\n",
       "      <td>0.156302</td>\n",
       "      <td>0.590601</td>\n",
       "      <td>0.056681</td>\n",
       "      <td>1</td>\n",
       "    </tr>\n",
       "    <tr>\n",
       "      <th>9</th>\n",
       "      <td>9</td>\n",
       "      <td>0.101659</td>\n",
       "      <td>0.206502</td>\n",
       "      <td>0.250134</td>\n",
       "      <td>0.169443</td>\n",
       "      <td>0.152274</td>\n",
       "      <td>0.027281</td>\n",
       "      <td>1</td>\n",
       "    </tr>\n",
       "  </tbody>\n",
       "</table>\n",
       "</div>"
      ],
      "text/plain": [
       "   Unnamed: 0        f1        f2        f3        f4        f5        f6  tar\n",
       "0           0  0.355710  0.519829  0.229193  0.250879  0.307452  0.025163    1\n",
       "1           1  0.124518  0.296713  0.098622  0.144642  0.476718  0.036359    1\n",
       "2           2  0.411651  0.513934  0.322982  0.307607  0.386171  0.017528    1\n",
       "3           3  0.416184  0.557342  0.271255  0.289376  0.341865  0.051839    1\n",
       "4           4  0.227238  0.289389  0.128155  0.246992  0.409614  0.044181    1\n",
       "5           5  0.135995  0.365666  0.099517  0.119933  0.647919  0.030936    1\n",
       "6           6  0.263117  0.400322  0.207356  0.223950  0.542962  0.039688    1\n",
       "7           7  0.185378  0.309218  0.134598  0.196557  0.507474  0.000885    1\n",
       "8           8  0.170139  0.358700  0.256757  0.156302  0.590601  0.056681    1\n",
       "9           9  0.101659  0.206502  0.250134  0.169443  0.152274  0.027281    1"
      ]
     },
     "execution_count": 3,
     "metadata": {},
     "output_type": "execute_result"
    }
   ],
   "source": [
    "print(df.shape)\n",
    "df.head(10)"
   ]
  },
  {
   "cell_type": "code",
   "execution_count": 4,
   "metadata": {},
   "outputs": [
    {
     "name": "stdout",
     "output_type": "stream",
     "text": [
      "tar\n",
      "1    210\n",
      "0    100\n",
      "Name: count, dtype: int64\n",
      "tar\n",
      "1    0.677419\n",
      "0    0.322581\n",
      "Name: count, dtype: float64\n"
     ]
    }
   ],
   "source": [
    "print(df.tar.value_counts())\n",
    "print(df.tar.value_counts()/len(df))"
   ]
  },
  {
   "cell_type": "code",
   "execution_count": 5,
   "metadata": {},
   "outputs": [],
   "source": [
    "from sklearn import model_selection\n",
    "df.to_csv(\"./datas/cancer/okDatas.csv\", index = False)\n",
    "y = df['tar']\n",
    "df = df.drop(columns='tar')\n",
    "X = df\n",
    "df_minmax_train, df_minmax_test,\\\n",
    "df_train_labels, df_test_labels \\\n",
    "= model_selection.train_test_split(X, y, test_size=0.3, random_state=42)"
   ]
  },
  {
   "cell_type": "code",
   "execution_count": 6,
   "metadata": {},
   "outputs": [
    {
     "name": "stdout",
     "output_type": "stream",
     "text": [
      "tar\n",
      "1    0.64977\n",
      "0    0.35023\n",
      "Name: count, dtype: float64\n",
      "tar\n",
      "1    0.741935\n",
      "0    0.258065\n",
      "Name: count, dtype: float64\n"
     ]
    }
   ],
   "source": [
    "print(df_train_labels.value_counts()/len(df_train_labels))\n",
    "print(df_test_labels.value_counts()/len(df_test_labels))"
   ]
  },
  {
   "cell_type": "markdown",
   "metadata": {},
   "source": [
    "#### 以下是朴素贝叶斯"
   ]
  },
  {
   "cell_type": "code",
   "execution_count": 7,
   "metadata": {},
   "outputs": [
    {
     "name": "stdout",
     "output_type": "stream",
     "text": [
      "              precision    recall  f1-score   support\n",
      "\n",
      "           0       1.00      0.92      0.96        24\n",
      "           1       0.97      1.00      0.99        69\n",
      "\n",
      "    accuracy                           0.98        93\n",
      "   macro avg       0.99      0.96      0.97        93\n",
      "weighted avg       0.98      0.98      0.98        93\n",
      "\n",
      "[[22  2]\n",
      " [ 0 69]]\n",
      "0.978494623655914\n"
     ]
    },
    {
     "data": {
      "image/png": "[encoded data removed]",
      "text/plain": [
       "<Figure size 1000x800 with 2 Axes>"
      ]
     },
     "metadata": {},
     "output_type": "display_data"
    }
   ],
   "source": [
    "from models import navieBayes # 调用自己复现的贝叶斯分类器\n",
    "naviBys = navieBayes.navieBayes() # 调用模型\n",
    "naviBys.fit(df_minmax_train, df_train_labels)\n",
    "df_test_pred = naviBys.predict(df_minmax_test)\n",
    "from sklearn import metrics\n",
    "print(metrics.classification_report(df_test_labels, df_test_pred))\n",
    "print(metrics.confusion_matrix(df_test_labels, df_test_pred))\n",
    "print(metrics.accuracy_score(df_test_labels, df_test_pred))\n",
    "from models import drawCM\n",
    "drawCM.ConfusionMatrixPlotter(metrics.confusion_matrix(df_test_labels, df_test_pred)).plot()"
   ]
  },
  {
   "cell_type": "markdown",
   "metadata": {},
   "source": [
    "#### 以下是传统SVM"
   ]
  },
  {
   "cell_type": "code",
   "execution_count": 9,
   "metadata": {},
   "outputs": [
    {
     "name": "stdout",
     "output_type": "stream",
     "text": [
      "              precision    recall  f1-score   support\n",
      "\n",
      "          AB       0.94      0.91      0.93        69\n",
      "          NO       0.77      0.83      0.80        24\n",
      "\n",
      "    accuracy                           0.89        93\n",
      "   macro avg       0.85      0.87      0.86        93\n",
      "weighted avg       0.90      0.89      0.89        93\n",
      "\n",
      "[[63  6]\n",
      " [ 4 20]]\n",
      "0.8924731182795699\n"
     ]
    },
    {
     "data": {
      "image/png": "[encoded data removed]",
      "text/plain": [
       "<Figure size 1000x800 with 2 Axes>"
      ]
     },
     "metadata": {},
     "output_type": "display_data"
    }
   ],
   "source": [
    "from sklearn import svm\n",
    "data = pd.read_csv(\"./datas/vertebral/column_2C.csv\")\n",
    "y = data['tar']\n",
    "data = data.drop(columns='tar')\n",
    "X = data\n",
    "X_train, X_test, y_train, y_test = model_selection.train_test_split(X, y, test_size=0.3, random_state=42)\n",
    "svc = svm.SVC(kernel='linear', C=1).fit(X_train, y_train)\n",
    "df_test_pred_svm = svc.predict(X_test)\n",
    "print(metrics.classification_report(y_test, df_test_pred_svm))\n",
    "print(metrics.confusion_matrix(y_test, df_test_pred_svm))\n",
    "print(metrics.accuracy_score(y_test, df_test_pred_svm))\n",
    "from models import drawCM\n",
    "drawCM.ConfusionMatrixPlotter(metrics.confusion_matrix(df_test_labels, df_test_pred)).plot()"
   ]
  }
 ],
 "metadata": {
  "kernelspec": {
   "display_name": "py36",
   "language": "python",
   "name": "python3"
  },
  "language_info": {
   "codemirror_mode": {
    "name": "ipython",
    "version": 3
   },
   "file_extension": ".py",
   "mimetype": "text/x-python",
   "name": "python",
   "nbconvert_exporter": "python",
   "pygments_lexer": "ipython3",
   "version": "3.11.5"
  }
 },
 "nbformat": 4,
 "nbformat_minor": 2
}
